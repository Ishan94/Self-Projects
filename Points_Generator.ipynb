{
 "cells": [
  {
   "cell_type": "code",
   "execution_count": 24,
   "id": "c8964719",
   "metadata": {},
   "outputs": [],
   "source": [
    "import random\n",
    "import numpy as np\n",
    "import matplotlib.pyplot as plt\n",
    "\n",
    "class NodeGenerator:\n",
    "    def __init__(self, width, height, nodesNumber):\n",
    "        self.gridwidth = width\n",
    "        self.gridheight = height\n",
    "        self.nodesNumber = nodesNumber\n",
    "\n",
    "    def generate(self):\n",
    "        xs = np.random.randint(self.gridwidth, size=self.nodesNumber)\n",
    "        ys = np.random.randint(self.gridheight, size=self.nodesNumber)\n",
    "        return np.column_stack((xs, ys))"
   ]
  },
  {
   "cell_type": "markdown",
   "id": "9bc4527c",
   "metadata": {},
   "source": [
    "The NodeGenerator class creates and object with three attributes : Grid Width, Grid Height and Number of Nodes.\n",
    "Within a Grid, the generate() function generates random X and Y co-ordinates representing co-ordinates of points to traverse.Note that points chosen randomly would be integers.\n",
    "\n",
    "Next we generate a set of random co-ordinates within a 80X60 Grid with 40 and plot it on a 2D plane."
   ]
  },
  {
   "cell_type": "code",
   "execution_count": 25,
   "id": "0912372b",
   "metadata": {},
   "outputs": [
    {
     "data": {
      "image/png": "[encoded data removed]",
      "text/plain": [
       "<Figure size 432x288 with 1 Axes>"
      ]
     },
     "metadata": {
      "needs_background": "light"
     },
     "output_type": "display_data"
    }
   ],
   "source": [
    "if __name__==\"__main__\":\n",
    "    Grid_obj = NodeGenerator(width=80, height=60, nodesNumber=40)\n",
    "    coordinates = Grid_obj.generate()\n",
    "    plt.scatter(coordinates[:,0], coordinates[:,1])\n",
    "    plt.show()"
   ]
  }
 ],
 "metadata": {
  "kernelspec": {
   "display_name": "Python 3",
   "language": "python",
   "name": "python3"
  },
  "language_info": {
   "codemirror_mode": {
    "name": "ipython",
    "version": 3
   },
   "file_extension": ".py",
   "mimetype": "text/x-python",
   "name": "python",
   "nbconvert_exporter": "python",
   "pygments_lexer": "ipython3",
   "version": "3.8.8"
  }
 },
 "nbformat": 4,
 "nbformat_minor": 5
}
